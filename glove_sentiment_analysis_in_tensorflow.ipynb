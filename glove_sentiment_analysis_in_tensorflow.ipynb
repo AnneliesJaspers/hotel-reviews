{
 "cells": [
  {
   "cell_type": "code",
   "execution_count": 78,
   "metadata": {},
   "outputs": [
    {
     "name": "stderr",
     "output_type": "stream",
     "text": [
      "C:\\Users\\michi\\anaconda3\\envs\\annelies-bookings-bert\\lib\\site-packages\\ipykernel_launcher.py:11: FutureWarning: Passing a negative integer is deprecated in version 1.0 and will not be supported in future version. Instead, use None to not limit the column width.\n",
      "  # This is added back by InteractiveShellApp.init_path()\n"
     ]
    }
   ],
   "source": [
    "import numpy as np\n",
    "import pandas as pd\n",
    "import matplotlib.pyplot as plt\n",
    "\n",
    "from sklearn.model_selection import train_test_split\n",
    "from sklearn.metrics import mean_absolute_error, mean_squared_error\n",
    "\n",
    "from tensorflow import keras\n",
    "\n",
    "pd.options.display.max_rows\n",
    "pd.set_option('display.max_colwidth', -1)"
   ]
  },
  {
   "cell_type": "code",
   "execution_count": 3,
   "metadata": {},
   "outputs": [],
   "source": [
    "df = pd.read_csv('Hotel_Reviews.csv')"
   ]
  },
  {
   "cell_type": "code",
   "execution_count": 4,
   "metadata": {
    "scrolled": true
   },
   "outputs": [
    {
     "data": {
      "text/html": [
       "<div>\n",
       "<style scoped>\n",
       "    .dataframe tbody tr th:only-of-type {\n",
       "        vertical-align: middle;\n",
       "    }\n",
       "\n",
       "    .dataframe tbody tr th {\n",
       "        vertical-align: top;\n",
       "    }\n",
       "\n",
       "    .dataframe thead th {\n",
       "        text-align: right;\n",
       "    }\n",
       "</style>\n",
       "<table border=\"1\" class=\"dataframe\">\n",
       "  <thead>\n",
       "    <tr style=\"text-align: right;\">\n",
       "      <th></th>\n",
       "      <th>Hotel_Address</th>\n",
       "      <th>Additional_Number_of_Scoring</th>\n",
       "      <th>Review_Date</th>\n",
       "      <th>Average_Score</th>\n",
       "      <th>Hotel_Name</th>\n",
       "      <th>Reviewer_Nationality</th>\n",
       "      <th>Negative_Review</th>\n",
       "      <th>Review_Total_Negative_Word_Counts</th>\n",
       "      <th>Total_Number_of_Reviews</th>\n",
       "      <th>Positive_Review</th>\n",
       "      <th>Review_Total_Positive_Word_Counts</th>\n",
       "      <th>Total_Number_of_Reviews_Reviewer_Has_Given</th>\n",
       "      <th>Reviewer_Score</th>\n",
       "      <th>Tags</th>\n",
       "      <th>days_since_review</th>\n",
       "      <th>lat</th>\n",
       "      <th>lng</th>\n",
       "    </tr>\n",
       "  </thead>\n",
       "  <tbody>\n",
       "    <tr>\n",
       "      <th>515733</th>\n",
       "      <td>Wurzbachgasse 21 15 Rudolfsheim F nfhaus 1150 Vienna Austria</td>\n",
       "      <td>168</td>\n",
       "      <td>8/30/2015</td>\n",
       "      <td>8.1</td>\n",
       "      <td>Atlantis Hotel Vienna</td>\n",
       "      <td>Kuwait</td>\n",
       "      <td>no trolly or staff to help you take the luggage to the room</td>\n",
       "      <td>14</td>\n",
       "      <td>2823</td>\n",
       "      <td>location</td>\n",
       "      <td>2</td>\n",
       "      <td>8</td>\n",
       "      <td>7.0</td>\n",
       "      <td>[' Leisure trip ', ' Family with older children ', ' 2 rooms ', ' Stayed 5 nights ']</td>\n",
       "      <td>704 day</td>\n",
       "      <td>48.203745</td>\n",
       "      <td>16.335677</td>\n",
       "    </tr>\n",
       "    <tr>\n",
       "      <th>515734</th>\n",
       "      <td>Wurzbachgasse 21 15 Rudolfsheim F nfhaus 1150 Vienna Austria</td>\n",
       "      <td>168</td>\n",
       "      <td>8/22/2015</td>\n",
       "      <td>8.1</td>\n",
       "      <td>Atlantis Hotel Vienna</td>\n",
       "      <td>Estonia</td>\n",
       "      <td>The hotel looks like 3 but surely not 4</td>\n",
       "      <td>11</td>\n",
       "      <td>2823</td>\n",
       "      <td>Breakfast was ok and we got earlier check in</td>\n",
       "      <td>11</td>\n",
       "      <td>12</td>\n",
       "      <td>5.8</td>\n",
       "      <td>[' Leisure trip ', ' Family with young children ', ' Standard Triple Room ', ' Stayed 2 nights ']</td>\n",
       "      <td>712 day</td>\n",
       "      <td>48.203745</td>\n",
       "      <td>16.335677</td>\n",
       "    </tr>\n",
       "    <tr>\n",
       "      <th>515735</th>\n",
       "      <td>Wurzbachgasse 21 15 Rudolfsheim F nfhaus 1150 Vienna Austria</td>\n",
       "      <td>168</td>\n",
       "      <td>8/19/2015</td>\n",
       "      <td>8.1</td>\n",
       "      <td>Atlantis Hotel Vienna</td>\n",
       "      <td>Egypt</td>\n",
       "      <td>The ac was useless It was a hot week in vienna and it only gave more hot air</td>\n",
       "      <td>19</td>\n",
       "      <td>2823</td>\n",
       "      <td>No Positive</td>\n",
       "      <td>0</td>\n",
       "      <td>3</td>\n",
       "      <td>2.5</td>\n",
       "      <td>[' Leisure trip ', ' Family with older children ', ' 2 rooms ', ' Stayed 4 nights ', ' Submitted from a mobile device ']</td>\n",
       "      <td>715 day</td>\n",
       "      <td>48.203745</td>\n",
       "      <td>16.335677</td>\n",
       "    </tr>\n",
       "    <tr>\n",
       "      <th>515736</th>\n",
       "      <td>Wurzbachgasse 21 15 Rudolfsheim F nfhaus 1150 Vienna Austria</td>\n",
       "      <td>168</td>\n",
       "      <td>8/17/2015</td>\n",
       "      <td>8.1</td>\n",
       "      <td>Atlantis Hotel Vienna</td>\n",
       "      <td>Mexico</td>\n",
       "      <td>No Negative</td>\n",
       "      <td>0</td>\n",
       "      <td>2823</td>\n",
       "      <td>The rooms are enormous and really comfortable I believe that a family of 5 members could be more than comfy in these spaces</td>\n",
       "      <td>25</td>\n",
       "      <td>3</td>\n",
       "      <td>8.8</td>\n",
       "      <td>[' Leisure trip ', ' Group ', ' Standard Triple Room ', ' Stayed 3 nights ']</td>\n",
       "      <td>717 day</td>\n",
       "      <td>48.203745</td>\n",
       "      <td>16.335677</td>\n",
       "    </tr>\n",
       "    <tr>\n",
       "      <th>515737</th>\n",
       "      <td>Wurzbachgasse 21 15 Rudolfsheim F nfhaus 1150 Vienna Austria</td>\n",
       "      <td>168</td>\n",
       "      <td>8/9/2015</td>\n",
       "      <td>8.1</td>\n",
       "      <td>Atlantis Hotel Vienna</td>\n",
       "      <td>Hungary</td>\n",
       "      <td>I was in 3rd floor It didn t work Free Wife</td>\n",
       "      <td>13</td>\n",
       "      <td>2823</td>\n",
       "      <td>staff was very kind</td>\n",
       "      <td>6</td>\n",
       "      <td>1</td>\n",
       "      <td>8.3</td>\n",
       "      <td>[' Leisure trip ', ' Family with young children ', ' 2 rooms ', ' Stayed 2 nights ']</td>\n",
       "      <td>725 day</td>\n",
       "      <td>48.203745</td>\n",
       "      <td>16.335677</td>\n",
       "    </tr>\n",
       "  </tbody>\n",
       "</table>\n",
       "</div>"
      ],
      "text/plain": [
       "                                                       Hotel_Address  \\\n",
       "515733  Wurzbachgasse 21 15 Rudolfsheim F nfhaus 1150 Vienna Austria   \n",
       "515734  Wurzbachgasse 21 15 Rudolfsheim F nfhaus 1150 Vienna Austria   \n",
       "515735  Wurzbachgasse 21 15 Rudolfsheim F nfhaus 1150 Vienna Austria   \n",
       "515736  Wurzbachgasse 21 15 Rudolfsheim F nfhaus 1150 Vienna Austria   \n",
       "515737  Wurzbachgasse 21 15 Rudolfsheim F nfhaus 1150 Vienna Austria   \n",
       "\n",
       "        Additional_Number_of_Scoring Review_Date  Average_Score  \\\n",
       "515733  168                           8/30/2015   8.1             \n",
       "515734  168                           8/22/2015   8.1             \n",
       "515735  168                           8/19/2015   8.1             \n",
       "515736  168                           8/17/2015   8.1             \n",
       "515737  168                           8/9/2015    8.1             \n",
       "\n",
       "                   Hotel_Name Reviewer_Nationality  \\\n",
       "515733  Atlantis Hotel Vienna   Kuwait               \n",
       "515734  Atlantis Hotel Vienna   Estonia              \n",
       "515735  Atlantis Hotel Vienna   Egypt                \n",
       "515736  Atlantis Hotel Vienna   Mexico               \n",
       "515737  Atlantis Hotel Vienna   Hungary              \n",
       "\n",
       "                                                                      Negative_Review  \\\n",
       "515733   no trolly or staff to help you take the luggage to the room                    \n",
       "515734   The hotel looks like 3 but surely not 4                                        \n",
       "515735   The ac was useless It was a hot week in vienna and it only gave more hot air   \n",
       "515736  No Negative                                                                     \n",
       "515737   I was in 3rd floor It didn t work Free Wife                                    \n",
       "\n",
       "        Review_Total_Negative_Word_Counts  Total_Number_of_Reviews  \\\n",
       "515733  14                                 2823                      \n",
       "515734  11                                 2823                      \n",
       "515735  19                                 2823                      \n",
       "515736  0                                  2823                      \n",
       "515737  13                                 2823                      \n",
       "\n",
       "                                                                                                                      Positive_Review  \\\n",
       "515733   location                                                                                                                       \n",
       "515734   Breakfast was ok and we got earlier check in                                                                                   \n",
       "515735  No Positive                                                                                                                     \n",
       "515736   The rooms are enormous and really comfortable I believe that a family of 5 members could be more than comfy in these spaces    \n",
       "515737   staff was very kind                                                                                                            \n",
       "\n",
       "        Review_Total_Positive_Word_Counts  \\\n",
       "515733  2                                   \n",
       "515734  11                                  \n",
       "515735  0                                   \n",
       "515736  25                                  \n",
       "515737  6                                   \n",
       "\n",
       "        Total_Number_of_Reviews_Reviewer_Has_Given  Reviewer_Score  \\\n",
       "515733  8                                           7.0              \n",
       "515734  12                                          5.8              \n",
       "515735  3                                           2.5              \n",
       "515736  3                                           8.8              \n",
       "515737  1                                           8.3              \n",
       "\n",
       "                                                                                                                            Tags  \\\n",
       "515733  [' Leisure trip ', ' Family with older children ', ' 2 rooms ', ' Stayed 5 nights ']                                       \n",
       "515734  [' Leisure trip ', ' Family with young children ', ' Standard Triple Room ', ' Stayed 2 nights ']                          \n",
       "515735  [' Leisure trip ', ' Family with older children ', ' 2 rooms ', ' Stayed 4 nights ', ' Submitted from a mobile device ']   \n",
       "515736  [' Leisure trip ', ' Group ', ' Standard Triple Room ', ' Stayed 3 nights ']                                               \n",
       "515737  [' Leisure trip ', ' Family with young children ', ' 2 rooms ', ' Stayed 2 nights ']                                       \n",
       "\n",
       "       days_since_review        lat        lng  \n",
       "515733  704 day           48.203745  16.335677  \n",
       "515734  712 day           48.203745  16.335677  \n",
       "515735  715 day           48.203745  16.335677  \n",
       "515736  717 day           48.203745  16.335677  \n",
       "515737  725 day           48.203745  16.335677  "
      ]
     },
     "execution_count": 4,
     "metadata": {},
     "output_type": "execute_result"
    }
   ],
   "source": [
    "df.tail()"
   ]
  },
  {
   "cell_type": "code",
   "execution_count": 5,
   "metadata": {},
   "outputs": [
    {
     "data": {
      "text/plain": [
       "(515738, 17)"
      ]
     },
     "execution_count": 5,
     "metadata": {},
     "output_type": "execute_result"
    }
   ],
   "source": [
    "df.shape"
   ]
  },
  {
   "cell_type": "markdown",
   "metadata": {},
   "source": [
    "In this notebook, we will try to predict `Reviewer_Score` for each review."
   ]
  },
  {
   "cell_type": "markdown",
   "metadata": {},
   "source": [
    "## Attempt 1: concatenate the negative and positive review + LSTM\n",
    "\n",
    "The data has a positive review and a negative review. To summarise this into one text field, we will concatenate them, and use a rare word as separator (\"cucumber\" in this case).\n",
    "\n",
    "This is obviously not an ideal strategy because of\n",
    "* Result might be dependent on whether positive comes first, or negative comes first.\n",
    "* If you first truncate the positive and negative reviews to a fixed length, then it might be possible that only one of the reviews is truncated. This introduces a bias towards to shorter review.\n",
    "\n",
    "\n",
    "This code is partly inspired by the Coursera course \"Sequence Models\" by deeplearning.ai and more specifically by the programming assignment \"Emojify\"."
   ]
  },
  {
   "cell_type": "markdown",
   "metadata": {},
   "source": [
    "## 1.1 Create train and test set"
   ]
  },
  {
   "cell_type": "markdown",
   "metadata": {},
   "source": [
    "#### Explore length of positive and negative reviews"
   ]
  },
  {
   "cell_type": "code",
   "execution_count": 6,
   "metadata": {},
   "outputs": [
    {
     "data": {
      "text/plain": [
       "18.539450263505888"
      ]
     },
     "execution_count": 6,
     "metadata": {},
     "output_type": "execute_result"
    }
   ],
   "source": [
    "df['Review_Total_Negative_Word_Counts'].mean()"
   ]
  },
  {
   "cell_type": "code",
   "execution_count": 7,
   "metadata": {},
   "outputs": [
    {
     "data": {
      "text/plain": [
       "17.77645820164502"
      ]
     },
     "execution_count": 7,
     "metadata": {},
     "output_type": "execute_result"
    }
   ],
   "source": [
    "df['Review_Total_Positive_Word_Counts'].mean()"
   ]
  },
  {
   "cell_type": "code",
   "execution_count": 8,
   "metadata": {},
   "outputs": [
    {
     "data": {
      "text/html": [
       "<div>\n",
       "<style scoped>\n",
       "    .dataframe tbody tr th:only-of-type {\n",
       "        vertical-align: middle;\n",
       "    }\n",
       "\n",
       "    .dataframe tbody tr th {\n",
       "        vertical-align: top;\n",
       "    }\n",
       "\n",
       "    .dataframe thead th {\n",
       "        text-align: right;\n",
       "    }\n",
       "</style>\n",
       "<table border=\"1\" class=\"dataframe\">\n",
       "  <thead>\n",
       "    <tr style=\"text-align: right;\">\n",
       "      <th></th>\n",
       "      <th>Review_Total_Negative_Word_Counts</th>\n",
       "      <th>Review_Total_Positive_Word_Counts</th>\n",
       "    </tr>\n",
       "  </thead>\n",
       "  <tbody>\n",
       "    <tr>\n",
       "      <th>count</th>\n",
       "      <td>515738.000000</td>\n",
       "      <td>515738.000000</td>\n",
       "    </tr>\n",
       "    <tr>\n",
       "      <th>mean</th>\n",
       "      <td>18.539450</td>\n",
       "      <td>17.776458</td>\n",
       "    </tr>\n",
       "    <tr>\n",
       "      <th>std</th>\n",
       "      <td>29.690831</td>\n",
       "      <td>21.804185</td>\n",
       "    </tr>\n",
       "    <tr>\n",
       "      <th>min</th>\n",
       "      <td>0.000000</td>\n",
       "      <td>0.000000</td>\n",
       "    </tr>\n",
       "    <tr>\n",
       "      <th>25%</th>\n",
       "      <td>2.000000</td>\n",
       "      <td>5.000000</td>\n",
       "    </tr>\n",
       "    <tr>\n",
       "      <th>50%</th>\n",
       "      <td>9.000000</td>\n",
       "      <td>11.000000</td>\n",
       "    </tr>\n",
       "    <tr>\n",
       "      <th>75%</th>\n",
       "      <td>23.000000</td>\n",
       "      <td>22.000000</td>\n",
       "    </tr>\n",
       "    <tr>\n",
       "      <th>max</th>\n",
       "      <td>408.000000</td>\n",
       "      <td>395.000000</td>\n",
       "    </tr>\n",
       "  </tbody>\n",
       "</table>\n",
       "</div>"
      ],
      "text/plain": [
       "       Review_Total_Negative_Word_Counts  Review_Total_Positive_Word_Counts\n",
       "count  515738.000000                      515738.000000                    \n",
       "mean   18.539450                          17.776458                        \n",
       "std    29.690831                          21.804185                        \n",
       "min    0.000000                           0.000000                         \n",
       "25%    2.000000                           5.000000                         \n",
       "50%    9.000000                           11.000000                        \n",
       "75%    23.000000                          22.000000                        \n",
       "max    408.000000                         395.000000                       "
      ]
     },
     "execution_count": 8,
     "metadata": {},
     "output_type": "execute_result"
    }
   ],
   "source": [
    "df[['Review_Total_Negative_Word_Counts', 'Review_Total_Positive_Word_Counts']].describe()"
   ]
  },
  {
   "cell_type": "markdown",
   "metadata": {},
   "source": [
    "#### Truncate and concatenate the negative and positive review"
   ]
  },
  {
   "cell_type": "code",
   "execution_count": 9,
   "metadata": {},
   "outputs": [],
   "source": [
    "max_len = 31 # The maximal length of the review (including the separator word, \n",
    "            #we will truncate the review so that this is the max length)\n",
    "separator = ' cucumber '"
   ]
  },
  {
   "cell_type": "code",
   "execution_count": 10,
   "metadata": {},
   "outputs": [],
   "source": [
    "def truncate_sentence(sentence, max_len):\n",
    "    return ' '.join(sentence.strip().split(' ')[:max_len])"
   ]
  },
  {
   "cell_type": "code",
   "execution_count": 11,
   "metadata": {},
   "outputs": [],
   "source": [
    "df = df.assign(pos_trunc=df['Positive_Review'].apply(truncate_sentence, max_len=max_len//2),\n",
    "               neg_trunc=df['Negative_Review'].apply(truncate_sentence, max_len=max_len//2))"
   ]
  },
  {
   "cell_type": "code",
   "execution_count": 12,
   "metadata": {},
   "outputs": [
    {
     "data": {
      "text/plain": [
       "' Location was good and staff were ok It is cute hotel the breakfast range is nice Will go back '"
      ]
     },
     "execution_count": 12,
     "metadata": {},
     "output_type": "execute_result"
    }
   ],
   "source": [
    "df.loc[2, 'Positive_Review']"
   ]
  },
  {
   "cell_type": "code",
   "execution_count": 13,
   "metadata": {},
   "outputs": [
    {
     "data": {
      "text/plain": [
       "'Location was good and staff were ok It is cute hotel the breakfast range is'"
      ]
     },
     "execution_count": 13,
     "metadata": {},
     "output_type": "execute_result"
    }
   ],
   "source": [
    "df.loc[2, 'pos_trunc']"
   ]
  },
  {
   "cell_type": "code",
   "execution_count": 14,
   "metadata": {},
   "outputs": [],
   "source": [
    "booking = df[['neg_trunc', 'pos_trunc', 'Reviewer_Score']]"
   ]
  },
  {
   "cell_type": "code",
   "execution_count": 15,
   "metadata": {},
   "outputs": [],
   "source": [
    "booking = booking.assign(review=(booking['neg_trunc'] + separator + booking['pos_trunc']))"
   ]
  },
  {
   "cell_type": "code",
   "execution_count": 16,
   "metadata": {},
   "outputs": [
    {
     "data": {
      "text/html": [
       "<div>\n",
       "<style scoped>\n",
       "    .dataframe tbody tr th:only-of-type {\n",
       "        vertical-align: middle;\n",
       "    }\n",
       "\n",
       "    .dataframe tbody tr th {\n",
       "        vertical-align: top;\n",
       "    }\n",
       "\n",
       "    .dataframe thead th {\n",
       "        text-align: right;\n",
       "    }\n",
       "</style>\n",
       "<table border=\"1\" class=\"dataframe\">\n",
       "  <thead>\n",
       "    <tr style=\"text-align: right;\">\n",
       "      <th></th>\n",
       "      <th>neg_trunc</th>\n",
       "      <th>pos_trunc</th>\n",
       "      <th>Reviewer_Score</th>\n",
       "      <th>review</th>\n",
       "    </tr>\n",
       "  </thead>\n",
       "  <tbody>\n",
       "    <tr>\n",
       "      <th>0</th>\n",
       "      <td>I am so angry that i made this post available via all possible sites i</td>\n",
       "      <td>Only the park outside of the hotel was beautiful</td>\n",
       "      <td>2.9</td>\n",
       "      <td>I am so angry that i made this post available via all possible sites i cucumber Only the park outside of the hotel was beautiful</td>\n",
       "    </tr>\n",
       "    <tr>\n",
       "      <th>1</th>\n",
       "      <td>No Negative</td>\n",
       "      <td>No real complaints the hotel was great great location surroundings rooms amenities and service Two</td>\n",
       "      <td>7.5</td>\n",
       "      <td>No Negative cucumber No real complaints the hotel was great great location surroundings rooms amenities and service Two</td>\n",
       "    </tr>\n",
       "    <tr>\n",
       "      <th>2</th>\n",
       "      <td>Rooms are nice but for elderly a bit difficult as most rooms are two story</td>\n",
       "      <td>Location was good and staff were ok It is cute hotel the breakfast range is</td>\n",
       "      <td>7.1</td>\n",
       "      <td>Rooms are nice but for elderly a bit difficult as most rooms are two story cucumber Location was good and staff were ok It is cute hotel the breakfast range is</td>\n",
       "    </tr>\n",
       "    <tr>\n",
       "      <th>3</th>\n",
       "      <td>My room was dirty and I was afraid to walk barefoot on the floor which</td>\n",
       "      <td>Great location in nice surroundings the bar and restaurant are nice and have a lovely</td>\n",
       "      <td>3.8</td>\n",
       "      <td>My room was dirty and I was afraid to walk barefoot on the floor which cucumber Great location in nice surroundings the bar and restaurant are nice and have a lovely</td>\n",
       "    </tr>\n",
       "    <tr>\n",
       "      <th>4</th>\n",
       "      <td>You When I booked with your company on line you showed me pictures of a</td>\n",
       "      <td>Amazing location and building Romantic setting</td>\n",
       "      <td>6.7</td>\n",
       "      <td>You When I booked with your company on line you showed me pictures of a cucumber Amazing location and building Romantic setting</td>\n",
       "    </tr>\n",
       "  </tbody>\n",
       "</table>\n",
       "</div>"
      ],
      "text/plain": [
       "                                                                    neg_trunc  \\\n",
       "0  I am so angry that i made this post available via all possible sites i       \n",
       "1  No Negative                                                                  \n",
       "2  Rooms are nice but for elderly a bit difficult as most rooms are two story   \n",
       "3  My room was dirty and I was afraid to walk barefoot on the floor which       \n",
       "4  You When I booked with your company on line you showed me pictures of a      \n",
       "\n",
       "                                                                                            pos_trunc  \\\n",
       "0  Only the park outside of the hotel was beautiful                                                     \n",
       "1  No real complaints the hotel was great great location surroundings rooms amenities and service Two   \n",
       "2  Location was good and staff were ok It is cute hotel the breakfast range is                          \n",
       "3  Great location in nice surroundings the bar and restaurant are nice and have a lovely                \n",
       "4  Amazing location and building Romantic setting                                                       \n",
       "\n",
       "   Reviewer_Score  \\\n",
       "0  2.9              \n",
       "1  7.5              \n",
       "2  7.1              \n",
       "3  3.8              \n",
       "4  6.7              \n",
       "\n",
       "                                                                                                                                                                  review  \n",
       "0  I am so angry that i made this post available via all possible sites i cucumber Only the park outside of the hotel was beautiful                                       \n",
       "1  No Negative cucumber No real complaints the hotel was great great location surroundings rooms amenities and service Two                                                \n",
       "2  Rooms are nice but for elderly a bit difficult as most rooms are two story cucumber Location was good and staff were ok It is cute hotel the breakfast range is        \n",
       "3  My room was dirty and I was afraid to walk barefoot on the floor which cucumber Great location in nice surroundings the bar and restaurant are nice and have a lovely  \n",
       "4  You When I booked with your company on line you showed me pictures of a cucumber Amazing location and building Romantic setting                                        "
      ]
     },
     "execution_count": 16,
     "metadata": {},
     "output_type": "execute_result"
    }
   ],
   "source": [
    "booking.head()"
   ]
  },
  {
   "cell_type": "code",
   "execution_count": 17,
   "metadata": {},
   "outputs": [
    {
     "data": {
      "text/html": [
       "<div>\n",
       "<style scoped>\n",
       "    .dataframe tbody tr th:only-of-type {\n",
       "        vertical-align: middle;\n",
       "    }\n",
       "\n",
       "    .dataframe tbody tr th {\n",
       "        vertical-align: top;\n",
       "    }\n",
       "\n",
       "    .dataframe thead th {\n",
       "        text-align: right;\n",
       "    }\n",
       "</style>\n",
       "<table border=\"1\" class=\"dataframe\">\n",
       "  <thead>\n",
       "    <tr style=\"text-align: right;\">\n",
       "      <th></th>\n",
       "      <th>review</th>\n",
       "      <th>Reviewer_Score</th>\n",
       "    </tr>\n",
       "  </thead>\n",
       "  <tbody>\n",
       "    <tr>\n",
       "      <th>0</th>\n",
       "      <td>I am so angry that i made this post available via all possible sites i cucumber Only the park outside of the hotel was beautiful</td>\n",
       "      <td>2.9</td>\n",
       "    </tr>\n",
       "    <tr>\n",
       "      <th>1</th>\n",
       "      <td>No Negative cucumber No real complaints the hotel was great great location surroundings rooms amenities and service Two</td>\n",
       "      <td>7.5</td>\n",
       "    </tr>\n",
       "    <tr>\n",
       "      <th>2</th>\n",
       "      <td>Rooms are nice but for elderly a bit difficult as most rooms are two story cucumber Location was good and staff were ok It is cute hotel the breakfast range is</td>\n",
       "      <td>7.1</td>\n",
       "    </tr>\n",
       "    <tr>\n",
       "      <th>3</th>\n",
       "      <td>My room was dirty and I was afraid to walk barefoot on the floor which cucumber Great location in nice surroundings the bar and restaurant are nice and have a lovely</td>\n",
       "      <td>3.8</td>\n",
       "    </tr>\n",
       "    <tr>\n",
       "      <th>4</th>\n",
       "      <td>You When I booked with your company on line you showed me pictures of a cucumber Amazing location and building Romantic setting</td>\n",
       "      <td>6.7</td>\n",
       "    </tr>\n",
       "  </tbody>\n",
       "</table>\n",
       "</div>"
      ],
      "text/plain": [
       "                                                                                                                                                                  review  \\\n",
       "0  I am so angry that i made this post available via all possible sites i cucumber Only the park outside of the hotel was beautiful                                        \n",
       "1  No Negative cucumber No real complaints the hotel was great great location surroundings rooms amenities and service Two                                                 \n",
       "2  Rooms are nice but for elderly a bit difficult as most rooms are two story cucumber Location was good and staff were ok It is cute hotel the breakfast range is         \n",
       "3  My room was dirty and I was afraid to walk barefoot on the floor which cucumber Great location in nice surroundings the bar and restaurant are nice and have a lovely   \n",
       "4  You When I booked with your company on line you showed me pictures of a cucumber Amazing location and building Romantic setting                                         \n",
       "\n",
       "   Reviewer_Score  \n",
       "0  2.9             \n",
       "1  7.5             \n",
       "2  7.1             \n",
       "3  3.8             \n",
       "4  6.7             "
      ]
     },
     "execution_count": 17,
     "metadata": {},
     "output_type": "execute_result"
    }
   ],
   "source": [
    "booking[['review', 'Reviewer_Score']].head()"
   ]
  },
  {
   "cell_type": "markdown",
   "metadata": {},
   "source": [
    "#### Explore the length of the resulting review"
   ]
  },
  {
   "cell_type": "code",
   "execution_count": 18,
   "metadata": {},
   "outputs": [],
   "source": [
    "def compute_length_review(row):\n",
    "    return len(row['review'].split())"
   ]
  },
  {
   "cell_type": "code",
   "execution_count": 19,
   "metadata": {},
   "outputs": [],
   "source": [
    "booking = booking.assign(len_review=booking.apply(compute_length_review, axis=1))"
   ]
  },
  {
   "cell_type": "code",
   "execution_count": 20,
   "metadata": {},
   "outputs": [
    {
     "data": {
      "text/plain": [
       "18.562500727113378"
      ]
     },
     "execution_count": 20,
     "metadata": {},
     "output_type": "execute_result"
    }
   ],
   "source": [
    "booking['len_review'].mean()"
   ]
  },
  {
   "cell_type": "code",
   "execution_count": 21,
   "metadata": {},
   "outputs": [
    {
     "data": {
      "text/plain": [
       "31"
      ]
     },
     "execution_count": 21,
     "metadata": {},
     "output_type": "execute_result"
    }
   ],
   "source": [
    "booking['len_review'].max()"
   ]
  },
  {
   "cell_type": "code",
   "execution_count": 22,
   "metadata": {},
   "outputs": [
    {
     "data": {
      "image/png": "[encoded data removed]",
      "text/plain": [
       "<Figure size 432x288 with 1 Axes>"
      ]
     },
     "metadata": {
      "needs_background": "light"
     },
     "output_type": "display_data"
    }
   ],
   "source": [
    "booking['len_review'].hist()\n",
    "plt.show()"
   ]
  },
  {
   "cell_type": "markdown",
   "metadata": {},
   "source": [
    "#### Split in train and test set"
   ]
  },
  {
   "cell_type": "code",
   "execution_count": 23,
   "metadata": {},
   "outputs": [],
   "source": [
    "train, test = train_test_split(booking, test_size=0.3, random_state=0)"
   ]
  },
  {
   "cell_type": "code",
   "execution_count": 24,
   "metadata": {},
   "outputs": [
    {
     "data": {
      "text/plain": [
       "(361016, 5)"
      ]
     },
     "execution_count": 24,
     "metadata": {},
     "output_type": "execute_result"
    }
   ],
   "source": [
    "train.shape"
   ]
  },
  {
   "cell_type": "code",
   "execution_count": 25,
   "metadata": {},
   "outputs": [
    {
     "data": {
      "text/plain": [
       "(154722, 5)"
      ]
     },
     "execution_count": 25,
     "metadata": {},
     "output_type": "execute_result"
    }
   ],
   "source": [
    "test.shape"
   ]
  },
  {
   "cell_type": "code",
   "execution_count": 26,
   "metadata": {},
   "outputs": [
    {
     "data": {
      "text/html": [
       "<div>\n",
       "<style scoped>\n",
       "    .dataframe tbody tr th:only-of-type {\n",
       "        vertical-align: middle;\n",
       "    }\n",
       "\n",
       "    .dataframe tbody tr th {\n",
       "        vertical-align: top;\n",
       "    }\n",
       "\n",
       "    .dataframe thead th {\n",
       "        text-align: right;\n",
       "    }\n",
       "</style>\n",
       "<table border=\"1\" class=\"dataframe\">\n",
       "  <thead>\n",
       "    <tr style=\"text-align: right;\">\n",
       "      <th></th>\n",
       "      <th>neg_trunc</th>\n",
       "      <th>pos_trunc</th>\n",
       "      <th>Reviewer_Score</th>\n",
       "      <th>review</th>\n",
       "      <th>len_review</th>\n",
       "    </tr>\n",
       "  </thead>\n",
       "  <tbody>\n",
       "    <tr>\n",
       "      <th>62509</th>\n",
       "      <td>The reception is far away from clear always confused about what happened no ever when</td>\n",
       "      <td>Great location convenience to everywhere</td>\n",
       "      <td>5.4</td>\n",
       "      <td>The reception is far away from clear always confused about what happened no ever when cucumber Great location convenience to everywhere</td>\n",
       "      <td>21</td>\n",
       "    </tr>\n",
       "    <tr>\n",
       "      <th>336558</th>\n",
       "      <td>The tired wallpaper and carpets</td>\n",
       "      <td>The location and staff</td>\n",
       "      <td>9.2</td>\n",
       "      <td>The tired wallpaper and carpets cucumber The location and staff</td>\n",
       "      <td>10</td>\n",
       "    </tr>\n",
       "    <tr>\n",
       "      <th>106656</th>\n",
       "      <td>The d cor needs updating</td>\n",
       "      <td>Staff was helpful</td>\n",
       "      <td>6.3</td>\n",
       "      <td>The d cor needs updating cucumber Staff was helpful</td>\n",
       "      <td>9</td>\n",
       "    </tr>\n",
       "    <tr>\n",
       "      <th>60251</th>\n",
       "      <td>The fact that the kettle in the room was not emptied and the fact that</td>\n",
       "      <td>The comfort of the bed and the staff</td>\n",
       "      <td>7.9</td>\n",
       "      <td>The fact that the kettle in the room was not emptied and the fact that cucumber The comfort of the bed and the staff</td>\n",
       "      <td>24</td>\n",
       "    </tr>\n",
       "    <tr>\n",
       "      <th>245396</th>\n",
       "      <td>I was only there for an overnight stay but found no problems</td>\n",
       "      <td>I did not have breakfast at the hotel as I had to leave before the</td>\n",
       "      <td>9.2</td>\n",
       "      <td>I was only there for an overnight stay but found no problems cucumber I did not have breakfast at the hotel as I had to leave before the</td>\n",
       "      <td>28</td>\n",
       "    </tr>\n",
       "  </tbody>\n",
       "</table>\n",
       "</div>"
      ],
      "text/plain": [
       "                                                                                    neg_trunc  \\\n",
       "62509   The reception is far away from clear always confused about what happened no ever when   \n",
       "336558  The tired wallpaper and carpets                                                         \n",
       "106656  The d cor needs updating                                                                \n",
       "60251   The fact that the kettle in the room was not emptied and the fact that                  \n",
       "245396  I was only there for an overnight stay but found no problems                            \n",
       "\n",
       "                                                                 pos_trunc  \\\n",
       "62509   Great location convenience to everywhere                             \n",
       "336558  The location and staff                                               \n",
       "106656  Staff was helpful                                                    \n",
       "60251   The comfort of the bed and the staff                                 \n",
       "245396  I did not have breakfast at the hotel as I had to leave before the   \n",
       "\n",
       "        Reviewer_Score  \\\n",
       "62509   5.4              \n",
       "336558  9.2              \n",
       "106656  6.3              \n",
       "60251   7.9              \n",
       "245396  9.2              \n",
       "\n",
       "                                                                                                                                          review  \\\n",
       "62509   The reception is far away from clear always confused about what happened no ever when cucumber Great location convenience to everywhere    \n",
       "336558  The tired wallpaper and carpets cucumber The location and staff                                                                            \n",
       "106656  The d cor needs updating cucumber Staff was helpful                                                                                        \n",
       "60251   The fact that the kettle in the room was not emptied and the fact that cucumber The comfort of the bed and the staff                       \n",
       "245396  I was only there for an overnight stay but found no problems cucumber I did not have breakfast at the hotel as I had to leave before the   \n",
       "\n",
       "        len_review  \n",
       "62509   21          \n",
       "336558  10          \n",
       "106656  9           \n",
       "60251   24          \n",
       "245396  28          "
      ]
     },
     "execution_count": 26,
     "metadata": {},
     "output_type": "execute_result"
    }
   ],
   "source": [
    "train.head()"
   ]
  },
  {
   "cell_type": "markdown",
   "metadata": {},
   "source": [
    "## 1.2 Import word embedding"
   ]
  },
  {
   "cell_type": "markdown",
   "metadata": {},
   "source": [
    "Download pre-trained glove word embedding from https://nlp.stanford.edu/projects/glove/. I used the one trained on Wikipedia 2014."
   ]
  },
  {
   "cell_type": "code",
   "execution_count": 28,
   "metadata": {},
   "outputs": [],
   "source": [
    "word_to_vector_dict = {}\n",
    "with open(\"glove.6B.50d.txt\", 'r', encoding=\"utf8\") as f:\n",
    "    for line in f:\n",
    "        values = line.split()\n",
    "        word = values[0]\n",
    "        vector = np.asarray(values[1:], \"float32\")\n",
    "        word_to_vector_dict[word] = vector"
   ]
  },
  {
   "cell_type": "code",
   "execution_count": 29,
   "metadata": {},
   "outputs": [],
   "source": [
    "# Make a token for unknown words\n",
    "word_to_vector_dict['<unknown>'] = np.zeros_like(word_to_vector_dict['princess'])"
   ]
  },
  {
   "cell_type": "code",
   "execution_count": 32,
   "metadata": {},
   "outputs": [],
   "source": [
    "word_to_index_dict = {}\n",
    "i = 0\n",
    "\n",
    "for word in word_to_vector_dict.keys():\n",
    "    word_to_index_dict[word] = i\n",
    "    i += 1\n",
    "\n",
    "index_to_word_dict = {word_to_index_dict[k]: k for k in word_to_index_dict.keys()}\n",
    "index_to_vector_dict = {i: word_to_vector_dict[index_to_word_dict[i]] for i in index_to_word_dict.keys()}"
   ]
  },
  {
   "cell_type": "code",
   "execution_count": 33,
   "metadata": {},
   "outputs": [],
   "source": [
    "def sentences_to_indices(X, word_to_index_dict, max_len):\n",
    "    \"\"\"\n",
    "    Converts an array of sentences (strings) into an array of indices.\n",
    "    \n",
    "    Arguments:\n",
    "    X -- array of sentences (strings), of shape (m, 1)\n",
    "    word_to_index -- a dictionary containing each word mapped to its index\n",
    "    max_len -- maximum number of words in a sentence.\n",
    "    \n",
    "    Returns:\n",
    "    X_indices -- array of indices corresponding to words in the sentences from X, of shape (m, max_len)\n",
    "    \"\"\"\n",
    "    \n",
    "    m = X.shape[0] \n",
    "    X_indices = np.zeros((m, max_len))\n",
    "    \n",
    "    for i in range(m): \n",
    "        j = 0\n",
    "        \n",
    "        # Convert the ith training sentence in lower case and split it into words.\n",
    "        sentence_words = X.iloc[i].lower().split()\n",
    "        \n",
    "        # Loop over the words of sentence_words\n",
    "        for w in sentence_words:\n",
    "            if w not in word_to_index_dict.keys():\n",
    "                w = '<unknown>'\n",
    "            # Set the (i,j)th entry of X_indices to the index of the correct word.\n",
    "            X_indices[i, j] = word_to_index_dict[w]\n",
    "            # Increment j to j + 1\n",
    "            j = j+1\n",
    "    \n",
    "    return X_indices"
   ]
  },
  {
   "cell_type": "code",
   "execution_count": 34,
   "metadata": {},
   "outputs": [
    {
     "data": {
      "text/plain": [
       "array([[4.1000e+01, 9.1300e+02, 1.0000e+02, 3.4000e+03, 1.2000e+01,\n",
       "        4.1000e+01, 1.1600e+02, 3.7000e+01, 6.5800e+02, 7.7900e+02,\n",
       "        1.9570e+03, 6.4000e+01, 5.5500e+02, 1.5580e+03, 4.1000e+01,\n",
       "        2.9794e+04, 9.1000e+01, 0.0000e+00, 6.2500e+02, 5.8700e+02,\n",
       "        3.0000e+00, 0.0000e+00, 1.2280e+03, 1.5000e+01, 3.3660e+03,\n",
       "        0.0000e+00, 0.0000e+00, 0.0000e+00, 0.0000e+00, 0.0000e+00,\n",
       "        0.0000e+00]])"
      ]
     },
     "execution_count": 34,
     "metadata": {},
     "output_type": "execute_result"
    }
   ],
   "source": [
    "sentences_to_indices(pd.Series(booking.loc[0, 'review']), word_to_index_dict, max_len)"
   ]
  },
  {
   "cell_type": "code",
   "execution_count": 35,
   "metadata": {},
   "outputs": [
    {
     "data": {
      "text/plain": [
       "0    I am so angry that i made this post available via all possible sites i cucumber Only the park outside of the hotel was beautiful\n",
       "dtype: object"
      ]
     },
     "execution_count": 35,
     "metadata": {},
     "output_type": "execute_result"
    }
   ],
   "source": [
    "pd.Series(booking.loc[0, 'review'])"
   ]
  },
  {
   "cell_type": "markdown",
   "metadata": {},
   "source": [
    "## 1.3 Create model"
   ]
  },
  {
   "cell_type": "code",
   "execution_count": 38,
   "metadata": {},
   "outputs": [],
   "source": [
    "def pretrained_embedding_layer(word_to_vec_map, word_to_index):\n",
    "    \"\"\"\n",
    "    Creates a Keras Embedding() layer and loads in pre-trained GloVe 50-dimensional vectors.\n",
    "    \n",
    "    Arguments:\n",
    "    word_to_vec_map -- dictionary mapping words to their GloVe vector representation.\n",
    "    word_to_index -- dictionary mapping from words to their indices in the vocabulary\n",
    "\n",
    "    Returns:\n",
    "    embedding_layer -- pretrained layer Keras instance\n",
    "    \"\"\"\n",
    "    \n",
    "    vocab_len = len(word_to_index) + 1\n",
    "    emb_dim = word_to_vec_map[\"cucumber\"].shape[0]\n",
    "    \n",
    "    emb_matrix = np.zeros((vocab_len, emb_dim))\n",
    "    \n",
    "    # Set each row \"idx\" of the embedding matrix to be \n",
    "    # the word vector representation of the idx'th word of the vocabulary\n",
    "    for word, idx in word_to_index.items():\n",
    "        emb_matrix[idx, :] = word_to_vec_map[word]\n",
    "\n",
    "    # Define Keras embedding layer\n",
    "    embedding_layer = keras.layers.Embedding(input_dim=vocab_len, output_dim=emb_dim, trainable=False)\n",
    "    embedding_layer.build((None,))\n",
    "    embedding_layer.set_weights([emb_matrix])\n",
    "    \n",
    "    return embedding_layer"
   ]
  },
  {
   "cell_type": "code",
   "execution_count": 39,
   "metadata": {},
   "outputs": [],
   "source": [
    "def build_model(max_len, word_to_vec_map, word_to_index):\n",
    "    \"\"\"\n",
    "    Function creating the model's graph.\n",
    "    \n",
    "    Arguments:\n",
    "    max_len -- maximal length of the sentences\n",
    "    word_to_vec_map -- dictionary mapping every word in a vocabulary into its vector representation\n",
    "    word_to_index -- dictionary mapping words to their indices in the vocabulary\n",
    "\n",
    "    Returns:\n",
    "    model -- a model instance in Keras\n",
    "    \"\"\"\n",
    "    \n",
    "    sentence_indices = keras.Input(shape=(max_len,), dtype='int32')\n",
    "    \n",
    "    # Create the embedding layer pretrained with GloVe Vectors\n",
    "    embedding_layer = pretrained_embedding_layer(word_to_vec_map, word_to_index)\n",
    "    \n",
    "    # Propagate sentence_indices through the embedding layer\n",
    "    embeddings = embedding_layer(sentence_indices)  \n",
    "    \n",
    "    # Propagate the embeddings through an LSTM layer with 128-dimensional hidden state\n",
    "    layer = keras.layers.LSTM(units=128)(embeddings)\n",
    "    # Propagate through a Dense layer with 1 units\n",
    "    output = keras.layers.Dense(1)(layer)\n",
    "    \n",
    "    # Create Model instance which converts sentence_indices into the output.\n",
    "    model = keras.models.Model(inputs=sentence_indices, outputs=output)\n",
    "    \n",
    "    return model"
   ]
  },
  {
   "cell_type": "code",
   "execution_count": 40,
   "metadata": {},
   "outputs": [
    {
     "name": "stdout",
     "output_type": "stream",
     "text": [
      "WARNING:tensorflow:From C:\\Users\\michi\\anaconda3\\envs\\annelies-bookings-bert\\lib\\site-packages\\tensorflow_core\\python\\keras\\initializers.py:119: calling RandomUniform.__init__ (from tensorflow.python.ops.init_ops) with dtype is deprecated and will be removed in a future version.\n",
      "Instructions for updating:\n",
      "Call initializer instance with the dtype argument instead of passing it to the constructor\n",
      "WARNING:tensorflow:From C:\\Users\\michi\\anaconda3\\envs\\annelies-bookings-bert\\lib\\site-packages\\tensorflow_core\\python\\ops\\resource_variable_ops.py:1630: calling BaseResourceVariable.__init__ (from tensorflow.python.ops.resource_variable_ops) with constraint is deprecated and will be removed in a future version.\n",
      "Instructions for updating:\n",
      "If using Keras pass *_constraint arguments to layers.\n",
      "Model: \"model\"\n",
      "_________________________________________________________________\n",
      "Layer (type)                 Output Shape              Param #   \n",
      "=================================================================\n",
      "input_1 (InputLayer)         [(None, 31)]              0         \n",
      "_________________________________________________________________\n",
      "embedding (Embedding)        (None, 31, 50)            20000100  \n",
      "_________________________________________________________________\n",
      "lstm (LSTM)                  (None, 128)               91648     \n",
      "_________________________________________________________________\n",
      "dense (Dense)                (None, 1)                 129       \n",
      "=================================================================\n",
      "Total params: 20,091,877\n",
      "Trainable params: 91,777\n",
      "Non-trainable params: 20,000,100\n",
      "_________________________________________________________________\n"
     ]
    }
   ],
   "source": [
    "model = build_model(max_len, word_to_vector_dict, word_to_index_dict)\n",
    "model.summary()"
   ]
  },
  {
   "cell_type": "code",
   "execution_count": 43,
   "metadata": {},
   "outputs": [
    {
     "name": "stdout",
     "output_type": "stream",
     "text": [
      "Failed to import pydot. You must install pydot and graphviz for `pydotprint` to work.\n"
     ]
    }
   ],
   "source": [
    "keras.utils.plot_model(model, to_file='model_plot.png', show_shapes=True, show_layer_names=False)"
   ]
  },
  {
   "cell_type": "code",
   "execution_count": 44,
   "metadata": {},
   "outputs": [],
   "source": [
    "model.compile(loss='mse', optimizer='adam')"
   ]
  },
  {
   "cell_type": "code",
   "execution_count": 45,
   "metadata": {},
   "outputs": [
    {
     "data": {
      "text/html": [
       "<div>\n",
       "<style scoped>\n",
       "    .dataframe tbody tr th:only-of-type {\n",
       "        vertical-align: middle;\n",
       "    }\n",
       "\n",
       "    .dataframe tbody tr th {\n",
       "        vertical-align: top;\n",
       "    }\n",
       "\n",
       "    .dataframe thead th {\n",
       "        text-align: right;\n",
       "    }\n",
       "</style>\n",
       "<table border=\"1\" class=\"dataframe\">\n",
       "  <thead>\n",
       "    <tr style=\"text-align: right;\">\n",
       "      <th></th>\n",
       "      <th>neg_trunc</th>\n",
       "      <th>pos_trunc</th>\n",
       "      <th>Reviewer_Score</th>\n",
       "      <th>review</th>\n",
       "      <th>len_review</th>\n",
       "    </tr>\n",
       "  </thead>\n",
       "  <tbody>\n",
       "    <tr>\n",
       "      <th>62509</th>\n",
       "      <td>The reception is far away from clear always confused about what happened no ever when</td>\n",
       "      <td>Great location convenience to everywhere</td>\n",
       "      <td>5.4</td>\n",
       "      <td>The reception is far away from clear always confused about what happened no ever when cucumber Great location convenience to everywhere</td>\n",
       "      <td>21</td>\n",
       "    </tr>\n",
       "    <tr>\n",
       "      <th>336558</th>\n",
       "      <td>The tired wallpaper and carpets</td>\n",
       "      <td>The location and staff</td>\n",
       "      <td>9.2</td>\n",
       "      <td>The tired wallpaper and carpets cucumber The location and staff</td>\n",
       "      <td>10</td>\n",
       "    </tr>\n",
       "    <tr>\n",
       "      <th>106656</th>\n",
       "      <td>The d cor needs updating</td>\n",
       "      <td>Staff was helpful</td>\n",
       "      <td>6.3</td>\n",
       "      <td>The d cor needs updating cucumber Staff was helpful</td>\n",
       "      <td>9</td>\n",
       "    </tr>\n",
       "    <tr>\n",
       "      <th>60251</th>\n",
       "      <td>The fact that the kettle in the room was not emptied and the fact that</td>\n",
       "      <td>The comfort of the bed and the staff</td>\n",
       "      <td>7.9</td>\n",
       "      <td>The fact that the kettle in the room was not emptied and the fact that cucumber The comfort of the bed and the staff</td>\n",
       "      <td>24</td>\n",
       "    </tr>\n",
       "    <tr>\n",
       "      <th>245396</th>\n",
       "      <td>I was only there for an overnight stay but found no problems</td>\n",
       "      <td>I did not have breakfast at the hotel as I had to leave before the</td>\n",
       "      <td>9.2</td>\n",
       "      <td>I was only there for an overnight stay but found no problems cucumber I did not have breakfast at the hotel as I had to leave before the</td>\n",
       "      <td>28</td>\n",
       "    </tr>\n",
       "  </tbody>\n",
       "</table>\n",
       "</div>"
      ],
      "text/plain": [
       "                                                                                    neg_trunc  \\\n",
       "62509   The reception is far away from clear always confused about what happened no ever when   \n",
       "336558  The tired wallpaper and carpets                                                         \n",
       "106656  The d cor needs updating                                                                \n",
       "60251   The fact that the kettle in the room was not emptied and the fact that                  \n",
       "245396  I was only there for an overnight stay but found no problems                            \n",
       "\n",
       "                                                                 pos_trunc  \\\n",
       "62509   Great location convenience to everywhere                             \n",
       "336558  The location and staff                                               \n",
       "106656  Staff was helpful                                                    \n",
       "60251   The comfort of the bed and the staff                                 \n",
       "245396  I did not have breakfast at the hotel as I had to leave before the   \n",
       "\n",
       "        Reviewer_Score  \\\n",
       "62509   5.4              \n",
       "336558  9.2              \n",
       "106656  6.3              \n",
       "60251   7.9              \n",
       "245396  9.2              \n",
       "\n",
       "                                                                                                                                          review  \\\n",
       "62509   The reception is far away from clear always confused about what happened no ever when cucumber Great location convenience to everywhere    \n",
       "336558  The tired wallpaper and carpets cucumber The location and staff                                                                            \n",
       "106656  The d cor needs updating cucumber Staff was helpful                                                                                        \n",
       "60251   The fact that the kettle in the room was not emptied and the fact that cucumber The comfort of the bed and the staff                       \n",
       "245396  I was only there for an overnight stay but found no problems cucumber I did not have breakfast at the hotel as I had to leave before the   \n",
       "\n",
       "        len_review  \n",
       "62509   21          \n",
       "336558  10          \n",
       "106656  9           \n",
       "60251   24          \n",
       "245396  28          "
      ]
     },
     "execution_count": 45,
     "metadata": {},
     "output_type": "execute_result"
    }
   ],
   "source": [
    "train.head()"
   ]
  },
  {
   "cell_type": "code",
   "execution_count": 46,
   "metadata": {},
   "outputs": [],
   "source": [
    "X_train_indices = sentences_to_indices(train['review'], word_to_index_dict, max_len)\n",
    "Y_train = train['Reviewer_Score'].to_numpy()"
   ]
  },
  {
   "cell_type": "code",
   "execution_count": 47,
   "metadata": {},
   "outputs": [
    {
     "data": {
      "text/plain": [
       "(361016, 31)"
      ]
     },
     "execution_count": 47,
     "metadata": {},
     "output_type": "execute_result"
    }
   ],
   "source": [
    "X_train_indices.shape"
   ]
  },
  {
   "cell_type": "code",
   "execution_count": 48,
   "metadata": {},
   "outputs": [
    {
     "data": {
      "text/plain": [
       "(361016,)"
      ]
     },
     "execution_count": 48,
     "metadata": {},
     "output_type": "execute_result"
    }
   ],
   "source": [
    "Y_train.shape"
   ]
  },
  {
   "cell_type": "code",
   "execution_count": 49,
   "metadata": {},
   "outputs": [
    {
     "data": {
      "text/plain": [
       "array([5.4, 9.2, 6.3, ..., 7.9, 9.2, 9.6])"
      ]
     },
     "execution_count": 49,
     "metadata": {},
     "output_type": "execute_result"
    }
   ],
   "source": [
    "Y_train"
   ]
  },
  {
   "cell_type": "code",
   "execution_count": 50,
   "metadata": {},
   "outputs": [
    {
     "data": {
      "text/plain": [
       "'The d cor needs updating cucumber Staff was helpful'"
      ]
     },
     "execution_count": 50,
     "metadata": {},
     "output_type": "execute_result"
    }
   ],
   "source": [
    "train.iloc[2]['review']"
   ]
  },
  {
   "cell_type": "code",
   "execution_count": 51,
   "metadata": {},
   "outputs": [
    {
     "data": {
      "text/plain": [
       "array([0.0000e+00, 1.9680e+03, 4.2176e+04, 1.0750e+03, 2.0243e+04,\n",
       "       2.9794e+04, 8.2100e+02, 1.5000e+01, 8.3470e+03, 0.0000e+00,\n",
       "       0.0000e+00, 0.0000e+00, 0.0000e+00, 0.0000e+00, 0.0000e+00,\n",
       "       0.0000e+00, 0.0000e+00, 0.0000e+00, 0.0000e+00, 0.0000e+00,\n",
       "       0.0000e+00, 0.0000e+00, 0.0000e+00, 0.0000e+00, 0.0000e+00,\n",
       "       0.0000e+00, 0.0000e+00, 0.0000e+00, 0.0000e+00, 0.0000e+00,\n",
       "       0.0000e+00])"
      ]
     },
     "execution_count": 51,
     "metadata": {},
     "output_type": "execute_result"
    }
   ],
   "source": [
    "X_train_indices[2]"
   ]
  },
  {
   "cell_type": "code",
   "execution_count": 52,
   "metadata": {
    "scrolled": true
   },
   "outputs": [
    {
     "name": "stdout",
     "output_type": "stream",
     "text": [
      "WARNING:tensorflow:From C:\\Users\\michi\\anaconda3\\envs\\annelies-bookings-bert\\lib\\site-packages\\tensorflow_core\\python\\ops\\math_grad.py:1424: where (from tensorflow.python.ops.array_ops) is deprecated and will be removed in a future version.\n",
      "Instructions for updating:\n",
      "Use tf.where in 2.0, which has the same broadcast rule as np.where\n",
      "Train on 288812 samples, validate on 72204 samples\n",
      "Epoch 1/10\n",
      "288812/288812 [==============================] - 72s 248us/sample - loss: 2.9263 - val_loss: 1.6954\n",
      "Epoch 2/10\n",
      "288812/288812 [==============================] - 69s 238us/sample - loss: 1.4699 - val_loss: 1.3567\n",
      "Epoch 3/10\n",
      "288812/288812 [==============================] - 65s 225us/sample - loss: 1.3301 - val_loss: 1.2882\n",
      "Epoch 4/10\n",
      "288812/288812 [==============================] - 70s 244us/sample - loss: 1.2724 - val_loss: 1.3164\n",
      "Epoch 5/10\n",
      "288812/288812 [==============================] - 66s 228us/sample - loss: 1.2347 - val_loss: 1.2519\n",
      "Epoch 6/10\n",
      "288812/288812 [==============================] - 65s 227us/sample - loss: 1.2036 - val_loss: 1.2113\n",
      "Epoch 7/10\n",
      "288812/288812 [==============================] - 65s 225us/sample - loss: 1.1803 - val_loss: 1.1838\n",
      "Epoch 8/10\n",
      "288812/288812 [==============================] - 64s 223us/sample - loss: 1.1560 - val_loss: 1.2220\n",
      "Epoch 9/10\n",
      "288812/288812 [==============================] - 66s 227us/sample - loss: 1.1348 - val_loss: 1.1604\n",
      "Epoch 10/10\n",
      "288812/288812 [==============================] - 68s 236us/sample - loss: 1.1178 - val_loss: 1.1691\n"
     ]
    },
    {
     "data": {
      "text/plain": [
       "<tensorflow.python.keras.callbacks.History at 0x28049c0aa88>"
      ]
     },
     "execution_count": 52,
     "metadata": {},
     "output_type": "execute_result"
    }
   ],
   "source": [
    "model.fit(x=X_train_indices, y=Y_train, epochs=10, batch_size=256, shuffle=True, validation_split=0.2)"
   ]
  },
  {
   "cell_type": "code",
   "execution_count": 53,
   "metadata": {},
   "outputs": [],
   "source": [
    "model.save('model.h5')"
   ]
  },
  {
   "cell_type": "code",
   "execution_count": 54,
   "metadata": {},
   "outputs": [],
   "source": [
    "def get_review_score(review, max_len):\n",
    "    x_review = pd.Series([review])\n",
    "    x_review_indices = sentences_to_indices(x_review, word_to_index_dict, max_len)\n",
    "    score = model.predict(x_review_indices)[0][0]\n",
    "    print(f'review: {review}')\n",
    "    print(f'predicted score: {score}')\n",
    "    return score"
   ]
  },
  {
   "cell_type": "code",
   "execution_count": 55,
   "metadata": {},
   "outputs": [
    {
     "name": "stdout",
     "output_type": "stream",
     "text": [
      "review: I hated staying here cucumber no positive\n",
      "predicted score: 5.936996936798096\n"
     ]
    },
    {
     "data": {
      "text/plain": [
       "5.936997"
      ]
     },
     "execution_count": 55,
     "metadata": {},
     "output_type": "execute_result"
    }
   ],
   "source": [
    "get_review_score('I hated staying here cucumber no positive', max_len)"
   ]
  },
  {
   "cell_type": "code",
   "execution_count": 56,
   "metadata": {},
   "outputs": [
    {
     "name": "stdout",
     "output_type": "stream",
     "text": [
      "review: I hated staying here cucumber nothing\n",
      "predicted score: 3.9981560707092285\n"
     ]
    },
    {
     "data": {
      "text/plain": [
       "3.998156"
      ]
     },
     "execution_count": 56,
     "metadata": {},
     "output_type": "execute_result"
    }
   ],
   "source": [
    "get_review_score('I hated staying here cucumber nothing', max_len)"
   ]
  },
  {
   "cell_type": "code",
   "execution_count": 57,
   "metadata": {},
   "outputs": [
    {
     "name": "stdout",
     "output_type": "stream",
     "text": [
      "review: Stupid hotel cucumber This hotel is great\n",
      "predicted score: 5.54572868347168\n"
     ]
    },
    {
     "data": {
      "text/plain": [
       "5.5457287"
      ]
     },
     "execution_count": 57,
     "metadata": {},
     "output_type": "execute_result"
    }
   ],
   "source": [
    "get_review_score('Stupid hotel cucumber This hotel is great', max_len)"
   ]
  },
  {
   "cell_type": "code",
   "execution_count": 58,
   "metadata": {},
   "outputs": [
    {
     "name": "stdout",
     "output_type": "stream",
     "text": [
      "review: no negative cucumber This hotel is great\n",
      "predicted score: 9.252572059631348\n"
     ]
    },
    {
     "data": {
      "text/plain": [
       "9.252572"
      ]
     },
     "execution_count": 58,
     "metadata": {},
     "output_type": "execute_result"
    }
   ],
   "source": [
    "get_review_score('no negative cucumber This hotel is great', max_len)"
   ]
  },
  {
   "cell_type": "code",
   "execution_count": 59,
   "metadata": {},
   "outputs": [
    {
     "name": "stdout",
     "output_type": "stream",
     "text": [
      "review: no negative carrot This hotel is great\n",
      "predicted score: 9.075560569763184\n",
      "review: no negative vegetable This hotel is great\n",
      "predicted score: 8.45508861541748\n",
      "review: no negative donut This hotel is great\n",
      "predicted score: 8.761009216308594\n"
     ]
    },
    {
     "data": {
      "text/plain": [
       "8.761009"
      ]
     },
     "execution_count": 59,
     "metadata": {},
     "output_type": "execute_result"
    }
   ],
   "source": [
    "# Does it matter which word is the seperator?\n",
    "get_review_score('no negative carrot This hotel is great', max_len)\n",
    "get_review_score('no negative vegetable This hotel is great', max_len)\n",
    "get_review_score('no negative donut This hotel is great', max_len)"
   ]
  },
  {
   "cell_type": "code",
   "execution_count": 60,
   "metadata": {},
   "outputs": [
    {
     "name": "stdout",
     "output_type": "stream",
     "text": [
      "review: This hotel is great\n",
      "predicted score: 8.394973754882812\n"
     ]
    },
    {
     "data": {
      "text/plain": [
       "8.394974"
      ]
     },
     "execution_count": 60,
     "metadata": {},
     "output_type": "execute_result"
    }
   ],
   "source": [
    "# No seperator?\n",
    "get_review_score('This hotel is great', max_len)"
   ]
  },
  {
   "cell_type": "code",
   "execution_count": 61,
   "metadata": {},
   "outputs": [],
   "source": [
    "X_test_indices = sentences_to_indices(test['review'], word_to_index_dict, max_len)\n",
    "Y_test = test['Reviewer_Score'].to_numpy()"
   ]
  },
  {
   "cell_type": "code",
   "execution_count": 62,
   "metadata": {},
   "outputs": [
    {
     "data": {
      "text/plain": [
       "'Very expensive Staff attitude was lacking cucumber No Positive'"
      ]
     },
     "execution_count": 62,
     "metadata": {},
     "output_type": "execute_result"
    }
   ],
   "source": [
    "test.iloc[0, :]['review']"
   ]
  },
  {
   "cell_type": "code",
   "execution_count": 63,
   "metadata": {},
   "outputs": [
    {
     "name": "stdout",
     "output_type": "stream",
     "text": [
      "review: Boring breakfast for people from Asia especially for those who stay for more than 2 cucumber The proximity to the railway station right across the street Very convenient to reach all\n",
      "predicted score: 8.221498489379883\n",
      "actual score: 7.9\n"
     ]
    }
   ],
   "source": [
    "index = 4\n",
    "get_review_score(test.iloc[index, :]['review'], max_len)\n",
    "print(f'actual score: {Y_test[index]}')"
   ]
  },
  {
   "cell_type": "markdown",
   "metadata": {},
   "source": [
    "# Performance on test set"
   ]
  },
  {
   "cell_type": "code",
   "execution_count": 64,
   "metadata": {},
   "outputs": [
    {
     "data": {
      "text/html": [
       "<div>\n",
       "<style scoped>\n",
       "    .dataframe tbody tr th:only-of-type {\n",
       "        vertical-align: middle;\n",
       "    }\n",
       "\n",
       "    .dataframe tbody tr th {\n",
       "        vertical-align: top;\n",
       "    }\n",
       "\n",
       "    .dataframe thead th {\n",
       "        text-align: right;\n",
       "    }\n",
       "</style>\n",
       "<table border=\"1\" class=\"dataframe\">\n",
       "  <thead>\n",
       "    <tr style=\"text-align: right;\">\n",
       "      <th></th>\n",
       "      <th>neg_trunc</th>\n",
       "      <th>pos_trunc</th>\n",
       "      <th>Reviewer_Score</th>\n",
       "      <th>review</th>\n",
       "      <th>len_review</th>\n",
       "    </tr>\n",
       "  </thead>\n",
       "  <tbody>\n",
       "    <tr>\n",
       "      <th>276954</th>\n",
       "      <td>Very expensive Staff attitude was lacking</td>\n",
       "      <td>No Positive</td>\n",
       "      <td>5.0</td>\n",
       "      <td>Very expensive Staff attitude was lacking cucumber No Positive</td>\n",
       "      <td>9</td>\n",
       "    </tr>\n",
       "    <tr>\n",
       "      <th>231304</th>\n",
       "      <td>No Negative</td>\n",
       "      <td>Excellent location close to tube station Royal Albert Hall and the museums Good value for</td>\n",
       "      <td>8.8</td>\n",
       "      <td>No Negative cucumber Excellent location close to tube station Royal Albert Hall and the museums Good value for</td>\n",
       "      <td>18</td>\n",
       "    </tr>\n",
       "    <tr>\n",
       "      <th>247559</th>\n",
       "      <td>The lobby area is very small some staff could have been friendlier</td>\n",
       "      <td>The rooms are very quiet The breakfast was good The location is excellent it is</td>\n",
       "      <td>7.5</td>\n",
       "      <td>The lobby area is very small some staff could have been friendlier cucumber The rooms are very quiet The breakfast was good The location is excellent it is</td>\n",
       "      <td>28</td>\n",
       "    </tr>\n",
       "    <tr>\n",
       "      <th>432314</th>\n",
       "      <td>The lifts are painfully slow</td>\n",
       "      <td>Loved the roof top pool and bar area everything about it was beautiful Although it</td>\n",
       "      <td>9.2</td>\n",
       "      <td>The lifts are painfully slow cucumber Loved the roof top pool and bar area everything about it was beautiful Although it</td>\n",
       "      <td>21</td>\n",
       "    </tr>\n",
       "    <tr>\n",
       "      <th>453374</th>\n",
       "      <td>Boring breakfast for people from Asia especially for those who stay for more than 2</td>\n",
       "      <td>The proximity to the railway station right across the street Very convenient to reach all</td>\n",
       "      <td>7.9</td>\n",
       "      <td>Boring breakfast for people from Asia especially for those who stay for more than 2 cucumber The proximity to the railway station right across the street Very convenient to reach all</td>\n",
       "      <td>31</td>\n",
       "    </tr>\n",
       "  </tbody>\n",
       "</table>\n",
       "</div>"
      ],
      "text/plain": [
       "                                                                                  neg_trunc  \\\n",
       "276954  Very expensive Staff attitude was lacking                                             \n",
       "231304  No Negative                                                                           \n",
       "247559  The lobby area is very small some staff could have been friendlier                    \n",
       "432314  The lifts are painfully slow                                                          \n",
       "453374  Boring breakfast for people from Asia especially for those who stay for more than 2   \n",
       "\n",
       "                                                                                        pos_trunc  \\\n",
       "276954  No Positive                                                                                 \n",
       "231304  Excellent location close to tube station Royal Albert Hall and the museums Good value for   \n",
       "247559  The rooms are very quiet The breakfast was good The location is excellent it is             \n",
       "432314  Loved the roof top pool and bar area everything about it was beautiful Although it          \n",
       "453374  The proximity to the railway station right across the street Very convenient to reach all   \n",
       "\n",
       "        Reviewer_Score  \\\n",
       "276954  5.0              \n",
       "231304  8.8              \n",
       "247559  7.5              \n",
       "432314  9.2              \n",
       "453374  7.9              \n",
       "\n",
       "                                                                                                                                                                                        review  \\\n",
       "276954  Very expensive Staff attitude was lacking cucumber No Positive                                                                                                                           \n",
       "231304  No Negative cucumber Excellent location close to tube station Royal Albert Hall and the museums Good value for                                                                           \n",
       "247559  The lobby area is very small some staff could have been friendlier cucumber The rooms are very quiet The breakfast was good The location is excellent it is                              \n",
       "432314  The lifts are painfully slow cucumber Loved the roof top pool and bar area everything about it was beautiful Although it                                                                 \n",
       "453374  Boring breakfast for people from Asia especially for those who stay for more than 2 cucumber The proximity to the railway station right across the street Very convenient to reach all   \n",
       "\n",
       "        len_review  \n",
       "276954  9           \n",
       "231304  18          \n",
       "247559  28          \n",
       "432314  21          \n",
       "453374  31          "
      ]
     },
     "execution_count": 64,
     "metadata": {},
     "output_type": "execute_result"
    }
   ],
   "source": [
    "test.head()"
   ]
  },
  {
   "cell_type": "code",
   "execution_count": 65,
   "metadata": {},
   "outputs": [],
   "source": [
    "X_test_indices = sentences_to_indices(test['review'], word_to_index_dict, max_len)\n",
    "Y_test = test['Reviewer_Score'].to_numpy()"
   ]
  },
  {
   "cell_type": "code",
   "execution_count": 67,
   "metadata": {},
   "outputs": [],
   "source": [
    "predictions = model.predict(X_test_indices)"
   ]
  },
  {
   "cell_type": "code",
   "execution_count": 70,
   "metadata": {},
   "outputs": [
    {
     "data": {
      "text/plain": [
       "array([6.4670396, 9.449208 , 8.384199 , ..., 8.75643  , 8.787545 ,\n",
       "       6.830998 ], dtype=float32)"
      ]
     },
     "execution_count": 70,
     "metadata": {},
     "output_type": "execute_result"
    }
   ],
   "source": [
    "predictions.squeeze()"
   ]
  },
  {
   "cell_type": "code",
   "execution_count": 69,
   "metadata": {},
   "outputs": [
    {
     "data": {
      "text/plain": [
       "array([ 5. ,  8.8,  7.5, ...,  7.9, 10. ,  5. ])"
      ]
     },
     "execution_count": 69,
     "metadata": {},
     "output_type": "execute_result"
    }
   ],
   "source": [
    "Y_test"
   ]
  },
  {
   "cell_type": "code",
   "execution_count": 81,
   "metadata": {},
   "outputs": [
    {
     "name": "stdout",
     "output_type": "stream",
     "text": [
      "mae: 0.8098164912545183\n",
      "mse: 1.1746928409176236\n"
     ]
    }
   ],
   "source": [
    "print(f'mae: {mean_absolute_error(predictions.squeeze(), Y_test)}')\n",
    "print(f'mse: {mean_squared_error(predictions.squeeze(), Y_test)}')"
   ]
  },
  {
   "cell_type": "markdown",
   "metadata": {},
   "source": [
    "# Benchmark\n",
    "Predict the average score on the training set"
   ]
  },
  {
   "cell_type": "code",
   "execution_count": 82,
   "metadata": {},
   "outputs": [
    {
     "name": "stdout",
     "output_type": "stream",
     "text": [
      "mae: 1.3152182385746745\n",
      "mse: 2.684179954085147\n"
     ]
    }
   ],
   "source": [
    "benchmark_predictions = np.ones(Y_test.shape) * train['Reviewer_Score'].mean()\n",
    "print(f'mae: {mean_absolute_error(benchmark_predictions, Y_test)}')\n",
    "print(f'mse: {mean_squared_error(benchmark_predictions, Y_test)}')"
   ]
  },
  {
   "cell_type": "markdown",
   "metadata": {},
   "source": [
    "We see that the model using glove does clearly better than the benchmark model."
   ]
  },
  {
   "cell_type": "code",
   "execution_count": null,
   "metadata": {},
   "outputs": [],
   "source": []
  }
 ],
 "metadata": {
  "kernelspec": {
   "display_name": "Python 3",
   "language": "python",
   "name": "python3"
  },
  "language_info": {
   "codemirror_mode": {
    "name": "ipython",
    "version": 3
   },
   "file_extension": ".py",
   "mimetype": "text/x-python",
   "name": "python",
   "nbconvert_exporter": "python",
   "pygments_lexer": "ipython3",
   "version": "3.8.5"
  }
 },
 "nbformat": 4,
 "nbformat_minor": 2
}
